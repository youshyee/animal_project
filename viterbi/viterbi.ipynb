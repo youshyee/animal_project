{
 "cells": [
  {
   "cell_type": "code",
   "execution_count": 1,
   "metadata": {
    "ExecuteTime": {
     "end_time": "2018-12-09T11:27:46.354134Z",
     "start_time": "2018-12-09T11:27:46.351875Z"
    }
   },
   "outputs": [],
   "source": [
    "import numpy as np"
   ]
  },
  {
   "cell_type": "code",
   "execution_count": 2,
   "metadata": {
    "ExecuteTime": {
     "end_time": "2018-12-09T11:27:47.168533Z",
     "start_time": "2018-12-09T11:27:47.166589Z"
    }
   },
   "outputs": [],
   "source": [
    "import pickle"
   ]
  },
  {
   "cell_type": "code",
   "execution_count": 3,
   "metadata": {
    "ExecuteTime": {
     "end_time": "2018-12-09T11:27:52.522031Z",
     "start_time": "2018-12-09T11:27:52.517765Z"
    }
   },
   "outputs": [],
   "source": [
    "import Bbox"
   ]
  },
  {
   "cell_type": "code",
   "execution_count": 4,
   "metadata": {
    "ExecuteTime": {
     "end_time": "2018-12-09T11:27:53.248916Z",
     "start_time": "2018-12-09T11:27:53.239550Z"
    }
   },
   "outputs": [],
   "source": [
    "with open('representative_bbox_pickle_output/1uy5acKJCh.pickle','rb') as file:\n",
    "    bboxes_list=pickle.load(file)"
   ]
  },
  {
   "cell_type": "code",
   "execution_count": 5,
   "metadata": {
    "ExecuteTime": {
     "end_time": "2018-12-09T11:27:56.117269Z",
     "start_time": "2018-12-09T11:27:56.108106Z"
    }
   },
   "outputs": [
    {
     "data": {
      "text/plain": [
       "3"
      ]
     },
     "execution_count": 5,
     "metadata": {},
     "output_type": "execute_result"
    }
   ],
   "source": [
    "bboxes_list[2][0].frame_index"
   ]
  },
  {
   "cell_type": "code",
   "execution_count": 6,
   "metadata": {
    "ExecuteTime": {
     "end_time": "2018-12-09T11:27:57.265204Z",
     "start_time": "2018-12-09T11:27:57.260946Z"
    }
   },
   "outputs": [],
   "source": [
    "def findmax_score_frame(bbox_list,cls,alpha=1,beta=1):\n",
    "    mixscore=0\n",
    "    best_box=None\n",
    "    whichindex=None\n",
    "    whichframe=None\n",
    "    \n",
    "    for i, bboxes in enumerate(bbox_list):\n",
    "        for j,bbox in enumerate(bboxes):\n",
    "            if bbox.isnone:\n",
    "                continue\n",
    "            if bbox.cls==cls:\n",
    "                candidate=alpha*bbox.motion*beta*bbox.score\n",
    "                if candidate>mixscore:\n",
    "                    mixscore=candidate\n",
    "                    best_box=bbox\n",
    "                    whichframe=i\n",
    "                    whichindex=j\n",
    "    return best_box,mixscore,whichindex,whichframe"
   ]
  },
  {
   "cell_type": "code",
   "execution_count": 7,
   "metadata": {
    "ExecuteTime": {
     "end_time": "2018-12-09T11:28:00.367836Z",
     "start_time": "2018-12-09T11:28:00.364902Z"
    }
   },
   "outputs": [],
   "source": [
    "def find_max_class_video(bboxes_list):\n",
    "    n=np.zeros(2)\n",
    "    for bboxes in bboxes_list:\n",
    "        for bbox in bboxes:\n",
    "            if bbox.isnone:\n",
    "                continue\n",
    "            n[bbox.cls]+=bbox.motion*bbox.score\n",
    "    return np.argmax(n)\n"
   ]
  },
  {
   "cell_type": "markdown",
   "metadata": {},
   "source": [
    "### add none bbox to all freams with bbox"
   ]
  },
  {
   "cell_type": "code",
   "execution_count": 8,
   "metadata": {
    "ExecuteTime": {
     "end_time": "2018-12-09T11:28:04.336231Z",
     "start_time": "2018-12-09T11:28:04.333022Z"
    }
   },
   "outputs": [],
   "source": [
    "def addnone(bboxes_list):\n",
    "    for i,bboxes in enumerate(bboxes_list):\n",
    "        judge=np.any([bbox.isnone for bbox in bboxes]) \n",
    "        if judge:\n",
    "            pass\n",
    "        else:\n",
    "            bboxes.append(Bbox.bbox(None,None,None,None,i+1,isnone=True))\n",
    "    return bboxes_list"
   ]
  },
  {
   "cell_type": "code",
   "execution_count": 9,
   "metadata": {
    "ExecuteTime": {
     "end_time": "2018-12-09T11:28:04.808803Z",
     "start_time": "2018-12-09T11:28:04.799838Z"
    }
   },
   "outputs": [],
   "source": [
    "bboxes_list=addnone(bboxes_list)\n"
   ]
  },
  {
   "cell_type": "markdown",
   "metadata": {},
   "source": [
    "### find the max class for this video "
   ]
  },
  {
   "cell_type": "code",
   "execution_count": 10,
   "metadata": {
    "ExecuteTime": {
     "end_time": "2018-12-09T11:28:13.058006Z",
     "start_time": "2018-12-09T11:28:13.055104Z"
    }
   },
   "outputs": [],
   "source": [
    "bestcls=find_max_class_video(bboxes_list)"
   ]
  },
  {
   "cell_type": "code",
   "execution_count": 11,
   "metadata": {
    "ExecuteTime": {
     "end_time": "2018-12-09T11:28:14.130131Z",
     "start_time": "2018-12-09T11:28:14.125779Z"
    }
   },
   "outputs": [],
   "source": [
    "bestbbox,score,boxes_index,frame_index=findmax_score_frame(bboxes_list,bestcls)"
   ]
  },
  {
   "cell_type": "markdown",
   "metadata": {},
   "source": [
    "### filter by the best class\n"
   ]
  },
  {
   "cell_type": "code",
   "execution_count": 12,
   "metadata": {
    "ExecuteTime": {
     "end_time": "2018-12-09T11:28:17.698510Z",
     "start_time": "2018-12-09T11:28:17.694953Z"
    }
   },
   "outputs": [],
   "source": [
    "def filter_by_bestcls(bboxes_list,bestcls):\n",
    "    for j,bboxes in enumerate(bboxes_list):\n",
    "        for i,bbox in enumerate(bboxes):\n",
    "            if bbox.isnone:\n",
    "                continue\n",
    "            else:\n",
    "                if bbox.cls!=bestcls:\n",
    "                    bboxes_list[j].pop(i)\n",
    "    return bboxes_list"
   ]
  },
  {
   "cell_type": "code",
   "execution_count": 13,
   "metadata": {
    "ExecuteTime": {
     "end_time": "2018-12-09T11:28:18.513566Z",
     "start_time": "2018-12-09T11:28:18.511169Z"
    }
   },
   "outputs": [],
   "source": [
    "bboxes_list=filter_by_bestcls(bboxes_list,bestcls)"
   ]
  },
  {
   "cell_type": "code",
   "execution_count": 14,
   "metadata": {
    "ExecuteTime": {
     "end_time": "2018-12-09T11:28:19.375803Z",
     "start_time": "2018-12-09T11:28:19.358098Z"
    },
    "collapsed": true
   },
   "outputs": [
    {
     "data": {
      "text/plain": [
       "[[<Bbox.bbox at 0x7f46c011ed68>],\n",
       " [<Bbox.bbox at 0x7f46c011ef60>],\n",
       " [<Bbox.bbox at 0x7f46c3578940>, <Bbox.bbox at 0x7f46c011edd8>],\n",
       " [<Bbox.bbox at 0x7f46c3578ba8>, <Bbox.bbox at 0x7f46d86ea4e0>],\n",
       " [<Bbox.bbox at 0x7f46d86ea908>],\n",
       " [<Bbox.bbox at 0x7f46c3578390>, <Bbox.bbox at 0x7f46d86ea240>],\n",
       " [<Bbox.bbox at 0x7f46d86ea320>],\n",
       " [<Bbox.bbox at 0x7f46c35784e0>, <Bbox.bbox at 0x7f46d86ea470>],\n",
       " [<Bbox.bbox at 0x7f46d86eaf98>],\n",
       " [<Bbox.bbox at 0x7f46c35782e8>, <Bbox.bbox at 0x7f46d86eaa58>],\n",
       " [<Bbox.bbox at 0x7f46c35783c8>, <Bbox.bbox at 0x7f46d86ea630>],\n",
       " [<Bbox.bbox at 0x7f46d86ea6a0>],\n",
       " [<Bbox.bbox at 0x7f46c35781d0>, <Bbox.bbox at 0x7f46d86ea2e8>],\n",
       " [<Bbox.bbox at 0x7f46c3578dd8>, <Bbox.bbox at 0x7f46c3500748>],\n",
       " [<Bbox.bbox at 0x7f46c3500390>],\n",
       " [<Bbox.bbox at 0x7f46d87e7cc0>, <Bbox.bbox at 0x7f46c35006a0>],\n",
       " [<Bbox.bbox at 0x7f46c35007f0>],\n",
       " [<Bbox.bbox at 0x7f46d87e74a8>, <Bbox.bbox at 0x7f46c3500208>],\n",
       " [<Bbox.bbox at 0x7f46d87e7f28>, <Bbox.bbox at 0x7f46c3500438>],\n",
       " [<Bbox.bbox at 0x7f46c35003c8>],\n",
       " [<Bbox.bbox at 0x7f46d87e7978>, <Bbox.bbox at 0x7f46c35786d8>],\n",
       " [<Bbox.bbox at 0x7f46d87e7f60>, <Bbox.bbox at 0x7f46c35785f8>],\n",
       " [<Bbox.bbox at 0x7f46c35788d0>],\n",
       " [<Bbox.bbox at 0x7f46d87e7b38>, <Bbox.bbox at 0x7f46c35784a8>],\n",
       " [<Bbox.bbox at 0x7f46c3578860>],\n",
       " [<Bbox.bbox at 0x7f46d87e7518>, <Bbox.bbox at 0x7f46c3578780>],\n",
       " [<Bbox.bbox at 0x7f46c3578630>],\n",
       " [<Bbox.bbox at 0x7f46d87e7c50>, <Bbox.bbox at 0x7f46c3578710>],\n",
       " [<Bbox.bbox at 0x7f46c3578be0>],\n",
       " [<Bbox.bbox at 0x7f46d87e78d0>, <Bbox.bbox at 0x7f46c3578c50>],\n",
       " [<Bbox.bbox at 0x7f46c3578748>],\n",
       " [<Bbox.bbox at 0x7f46c35786a0>],\n",
       " [<Bbox.bbox at 0x7f46c3578908>],\n",
       " [<Bbox.bbox at 0x7f46d87e7438>, <Bbox.bbox at 0x7f46c3578b70>],\n",
       " [<Bbox.bbox at 0x7f46c00d7080>],\n",
       " [<Bbox.bbox at 0x7f46d86bc898>, <Bbox.bbox at 0x7f46c00d7048>],\n",
       " [<Bbox.bbox at 0x7f46c00d70b8>],\n",
       " [<Bbox.bbox at 0x7f46c00d70f0>],\n",
       " [<Bbox.bbox at 0x7f46c00d7198>],\n",
       " [<Bbox.bbox at 0x7f46c00d71d0>],\n",
       " [<Bbox.bbox at 0x7f46d86bcb70>, <Bbox.bbox at 0x7f46c00d7208>],\n",
       " [<Bbox.bbox at 0x7f46c00d7240>],\n",
       " [<Bbox.bbox at 0x7f46c00d7278>],\n",
       " [<Bbox.bbox at 0x7f46c00d72b0>],\n",
       " [<Bbox.bbox at 0x7f46c00d72e8>],\n",
       " [<Bbox.bbox at 0x7f46c00d7320>],\n",
       " [<Bbox.bbox at 0x7f46c00d7358>],\n",
       " [<Bbox.bbox at 0x7f46c00d7390>],\n",
       " [<Bbox.bbox at 0x7f46c00d73c8>],\n",
       " [<Bbox.bbox at 0x7f46d86bcf60>, <Bbox.bbox at 0x7f46c00d7400>],\n",
       " [<Bbox.bbox at 0x7f46c00d7438>],\n",
       " [<Bbox.bbox at 0x7f46c00d7470>],\n",
       " [<Bbox.bbox at 0x7f46c00d74a8>],\n",
       " [<Bbox.bbox at 0x7f46c00d74e0>],\n",
       " [<Bbox.bbox at 0x7f46c00d7518>],\n",
       " [<Bbox.bbox at 0x7f46c00d7550>],\n",
       " [<Bbox.bbox at 0x7f46c00d7588>],\n",
       " [<Bbox.bbox at 0x7f46c00d75c0>],\n",
       " [<Bbox.bbox at 0x7f46c00d75f8>],\n",
       " [<Bbox.bbox at 0x7f46c00d7630>],\n",
       " [<Bbox.bbox at 0x7f46c00d7668>],\n",
       " [<Bbox.bbox at 0x7f46c00d76a0>],\n",
       " [<Bbox.bbox at 0x7f46c00d76d8>],\n",
       " [<Bbox.bbox at 0x7f46c00d7710>],\n",
       " [<Bbox.bbox at 0x7f46c00d7748>],\n",
       " [<Bbox.bbox at 0x7f46c00d7780>],\n",
       " [<Bbox.bbox at 0x7f46c00d77b8>],\n",
       " [<Bbox.bbox at 0x7f46c00d77f0>],\n",
       " [<Bbox.bbox at 0x7f46c00d7828>],\n",
       " [<Bbox.bbox at 0x7f46c00d7860>],\n",
       " [<Bbox.bbox at 0x7f46c00d7898>],\n",
       " [<Bbox.bbox at 0x7f46c00d78d0>],\n",
       " [<Bbox.bbox at 0x7f46c00d7908>],\n",
       " [<Bbox.bbox at 0x7f46c00d7940>],\n",
       " [<Bbox.bbox at 0x7f46c00d7978>],\n",
       " [<Bbox.bbox at 0x7f46c00d79b0>],\n",
       " [<Bbox.bbox at 0x7f46c00d79e8>],\n",
       " [<Bbox.bbox at 0x7f46c00d7a20>],\n",
       " [<Bbox.bbox at 0x7f46c00d7a58>],\n",
       " [<Bbox.bbox at 0x7f46c00d7a90>],\n",
       " [<Bbox.bbox at 0x7f46c00d7ac8>],\n",
       " [<Bbox.bbox at 0x7f46c00d7b00>],\n",
       " [<Bbox.bbox at 0x7f46c00d7b38>],\n",
       " [<Bbox.bbox at 0x7f46c00d7b70>],\n",
       " [<Bbox.bbox at 0x7f46c00d7ba8>],\n",
       " [<Bbox.bbox at 0x7f46c00d7be0>],\n",
       " [<Bbox.bbox at 0x7f46c00d7c18>],\n",
       " [<Bbox.bbox at 0x7f46c00d7c50>],\n",
       " [<Bbox.bbox at 0x7f46c00d7c88>],\n",
       " [<Bbox.bbox at 0x7f46c00d7cc0>],\n",
       " [<Bbox.bbox at 0x7f46c00d7cf8>],\n",
       " [<Bbox.bbox at 0x7f46c00d7d30>],\n",
       " [<Bbox.bbox at 0x7f46c00d7d68>],\n",
       " [<Bbox.bbox at 0x7f46d86bcb38>, <Bbox.bbox at 0x7f46c00d7da0>],\n",
       " [<Bbox.bbox at 0x7f46c00d7dd8>],\n",
       " [<Bbox.bbox at 0x7f46c00d7e10>],\n",
       " [<Bbox.bbox at 0x7f46c00d7e48>],\n",
       " [<Bbox.bbox at 0x7f46c00d7e80>],\n",
       " [<Bbox.bbox at 0x7f46c00d7eb8>],\n",
       " [<Bbox.bbox at 0x7f46c00d7ef0>],\n",
       " [<Bbox.bbox at 0x7f46c00d7f28>],\n",
       " [<Bbox.bbox at 0x7f46c00d7f60>],\n",
       " [<Bbox.bbox at 0x7f46c00d7f98>],\n",
       " [<Bbox.bbox at 0x7f46c00d7fd0>],\n",
       " [<Bbox.bbox at 0x7f46c00d9048>],\n",
       " [<Bbox.bbox at 0x7f46c00d9080>],\n",
       " [<Bbox.bbox at 0x7f46c00d90b8>],\n",
       " [<Bbox.bbox at 0x7f46c00d90f0>],\n",
       " [<Bbox.bbox at 0x7f46c00d9128>],\n",
       " [<Bbox.bbox at 0x7f46c00d9160>],\n",
       " [<Bbox.bbox at 0x7f46c00d9198>],\n",
       " [<Bbox.bbox at 0x7f46c00d91d0>],\n",
       " [<Bbox.bbox at 0x7f46c00d9208>],\n",
       " [<Bbox.bbox at 0x7f46c00d9240>],\n",
       " [<Bbox.bbox at 0x7f46c00d9278>],\n",
       " [<Bbox.bbox at 0x7f46c00d92b0>],\n",
       " [<Bbox.bbox at 0x7f46c00d92e8>],\n",
       " [<Bbox.bbox at 0x7f46c3711da0>, <Bbox.bbox at 0x7f46c00d9320>],\n",
       " [<Bbox.bbox at 0x7f46c3500898>, <Bbox.bbox at 0x7f46c00d9358>],\n",
       " [<Bbox.bbox at 0x7f46c3500550>, <Bbox.bbox at 0x7f46c00d9390>],\n",
       " [<Bbox.bbox at 0x7f46c35001d0>, <Bbox.bbox at 0x7f46c00d93c8>],\n",
       " [<Bbox.bbox at 0x7f46c00d9400>],\n",
       " [<Bbox.bbox at 0x7f46c00d9438>],\n",
       " [<Bbox.bbox at 0x7f46c00d9470>],\n",
       " [<Bbox.bbox at 0x7f46c00d94a8>],\n",
       " [<Bbox.bbox at 0x7f46c00d94e0>],\n",
       " [<Bbox.bbox at 0x7f46c00d9518>],\n",
       " [<Bbox.bbox at 0x7f46c00d9550>],\n",
       " [<Bbox.bbox at 0x7f46c35004e0>, <Bbox.bbox at 0x7f46c00d9588>],\n",
       " [<Bbox.bbox at 0x7f46c00d95c0>],\n",
       " [<Bbox.bbox at 0x7f46c00d95f8>],\n",
       " [<Bbox.bbox at 0x7f46c00d9630>],\n",
       " [<Bbox.bbox at 0x7f46c00d9668>],\n",
       " [<Bbox.bbox at 0x7f46c00d96a0>],\n",
       " [<Bbox.bbox at 0x7f46c00d96d8>],\n",
       " [<Bbox.bbox at 0x7f46c00d9710>],\n",
       " [<Bbox.bbox at 0x7f46c00d9748>],\n",
       " [<Bbox.bbox at 0x7f46c00d9780>],\n",
       " [<Bbox.bbox at 0x7f46c00d97b8>],\n",
       " [<Bbox.bbox at 0x7f46c00d97f0>],\n",
       " [<Bbox.bbox at 0x7f46c00d9828>],\n",
       " [<Bbox.bbox at 0x7f46c00d9860>],\n",
       " [<Bbox.bbox at 0x7f46c00d9898>],\n",
       " [<Bbox.bbox at 0x7f46c00d98d0>],\n",
       " [<Bbox.bbox at 0x7f46c00d9908>],\n",
       " [<Bbox.bbox at 0x7f46c00d9940>],\n",
       " [<Bbox.bbox at 0x7f46c00d9978>],\n",
       " [<Bbox.bbox at 0x7f46c00d99b0>],\n",
       " [<Bbox.bbox at 0x7f46c00d99e8>],\n",
       " [<Bbox.bbox at 0x7f46c00d9a20>],\n",
       " [<Bbox.bbox at 0x7f46c00d9a58>],\n",
       " [<Bbox.bbox at 0x7f46c00d9a90>],\n",
       " [<Bbox.bbox at 0x7f46c00d9ac8>],\n",
       " [<Bbox.bbox at 0x7f46c00d9b00>],\n",
       " [<Bbox.bbox at 0x7f46c00d9b38>],\n",
       " [<Bbox.bbox at 0x7f46c00d9b70>],\n",
       " [<Bbox.bbox at 0x7f46c00d9ba8>],\n",
       " [<Bbox.bbox at 0x7f46c00d9be0>],\n",
       " [<Bbox.bbox at 0x7f46c00d9c18>],\n",
       " [<Bbox.bbox at 0x7f46c00d9c50>],\n",
       " [<Bbox.bbox at 0x7f46c00d9c88>],\n",
       " [<Bbox.bbox at 0x7f46c00d9cc0>],\n",
       " [<Bbox.bbox at 0x7f46c00d9cf8>],\n",
       " [<Bbox.bbox at 0x7f46c00d9d30>],\n",
       " [<Bbox.bbox at 0x7f46c00d9d68>],\n",
       " [<Bbox.bbox at 0x7f46c00d9da0>],\n",
       " [<Bbox.bbox at 0x7f46c00d9dd8>],\n",
       " [<Bbox.bbox at 0x7f46c00d9e10>],\n",
       " [<Bbox.bbox at 0x7f46c00d9e48>],\n",
       " [<Bbox.bbox at 0x7f46c00d9e80>],\n",
       " [<Bbox.bbox at 0x7f46c00d9eb8>],\n",
       " [<Bbox.bbox at 0x7f46c00d9ef0>],\n",
       " [<Bbox.bbox at 0x7f46c00d9f28>],\n",
       " [<Bbox.bbox at 0x7f46c00d9f60>],\n",
       " [<Bbox.bbox at 0x7f46c00d9f98>],\n",
       " [<Bbox.bbox at 0x7f46c00d9fd0>],\n",
       " [<Bbox.bbox at 0x7f46c00db048>],\n",
       " [<Bbox.bbox at 0x7f46c00db080>],\n",
       " [<Bbox.bbox at 0x7f46c00db0b8>],\n",
       " [<Bbox.bbox at 0x7f46c00db0f0>],\n",
       " [<Bbox.bbox at 0x7f46c00db128>],\n",
       " [<Bbox.bbox at 0x7f46c00db160>],\n",
       " [<Bbox.bbox at 0x7f46c00db198>],\n",
       " [<Bbox.bbox at 0x7f46c00db1d0>],\n",
       " [<Bbox.bbox at 0x7f46c00db208>],\n",
       " [<Bbox.bbox at 0x7f46c00db240>],\n",
       " [<Bbox.bbox at 0x7f46c00db278>],\n",
       " [<Bbox.bbox at 0x7f46c00db2b0>],\n",
       " [<Bbox.bbox at 0x7f46c00db2e8>],\n",
       " [<Bbox.bbox at 0x7f46c00db320>],\n",
       " [<Bbox.bbox at 0x7f46c00db358>],\n",
       " [<Bbox.bbox at 0x7f46c00db390>],\n",
       " [<Bbox.bbox at 0x7f46c00db3c8>],\n",
       " [<Bbox.bbox at 0x7f46c00db400>],\n",
       " [<Bbox.bbox at 0x7f46c00db438>],\n",
       " [<Bbox.bbox at 0x7f46c00db470>],\n",
       " [<Bbox.bbox at 0x7f46c00db4a8>],\n",
       " [<Bbox.bbox at 0x7f46c00db4e0>],\n",
       " [<Bbox.bbox at 0x7f46c00db518>],\n",
       " [<Bbox.bbox at 0x7f46c00db550>],\n",
       " [<Bbox.bbox at 0x7f46c00db588>],\n",
       " [<Bbox.bbox at 0x7f46c00db5c0>],\n",
       " [<Bbox.bbox at 0x7f46c00db5f8>],\n",
       " [<Bbox.bbox at 0x7f46c00db630>],\n",
       " [<Bbox.bbox at 0x7f46c00db668>],\n",
       " [<Bbox.bbox at 0x7f46c00db6a0>],\n",
       " [<Bbox.bbox at 0x7f46c00db6d8>],\n",
       " [<Bbox.bbox at 0x7f46c00db710>],\n",
       " [<Bbox.bbox at 0x7f46c00db748>],\n",
       " [<Bbox.bbox at 0x7f46c00db780>],\n",
       " [<Bbox.bbox at 0x7f46c00db7b8>],\n",
       " [<Bbox.bbox at 0x7f46c00db7f0>],\n",
       " [<Bbox.bbox at 0x7f46c00db828>],\n",
       " [<Bbox.bbox at 0x7f46c00db860>],\n",
       " [<Bbox.bbox at 0x7f46c00db898>],\n",
       " [<Bbox.bbox at 0x7f46c00db8d0>],\n",
       " [<Bbox.bbox at 0x7f46c00db908>],\n",
       " [<Bbox.bbox at 0x7f46c00db940>],\n",
       " [<Bbox.bbox at 0x7f46c00db978>],\n",
       " [<Bbox.bbox at 0x7f46c00db9b0>],\n",
       " [<Bbox.bbox at 0x7f46c00db9e8>],\n",
       " [<Bbox.bbox at 0x7f46c00dba20>],\n",
       " [<Bbox.bbox at 0x7f46c00dba58>],\n",
       " [<Bbox.bbox at 0x7f46c00dba90>],\n",
       " [<Bbox.bbox at 0x7f46c00dbac8>],\n",
       " [<Bbox.bbox at 0x7f46c00dbb00>],\n",
       " [<Bbox.bbox at 0x7f46c00dbb38>],\n",
       " [<Bbox.bbox at 0x7f46c00dbb70>],\n",
       " [<Bbox.bbox at 0x7f46c00dbba8>],\n",
       " [<Bbox.bbox at 0x7f46c00dbbe0>],\n",
       " [<Bbox.bbox at 0x7f46c00dbc18>],\n",
       " [<Bbox.bbox at 0x7f46c00dbc50>],\n",
       " [<Bbox.bbox at 0x7f46c00dbc88>],\n",
       " [<Bbox.bbox at 0x7f46c00dbcc0>],\n",
       " [<Bbox.bbox at 0x7f46c00dbcf8>],\n",
       " [<Bbox.bbox at 0x7f46c00dbd30>],\n",
       " [<Bbox.bbox at 0x7f46c00dbd68>],\n",
       " [<Bbox.bbox at 0x7f46c00dbda0>],\n",
       " [<Bbox.bbox at 0x7f46c00dbdd8>],\n",
       " [<Bbox.bbox at 0x7f46c00dbe10>],\n",
       " [<Bbox.bbox at 0x7f46c00dbeb8>],\n",
       " [<Bbox.bbox at 0x7f46c00dbef0>],\n",
       " [<Bbox.bbox at 0x7f46c00dbf28>],\n",
       " [<Bbox.bbox at 0x7f46c00dbf60>],\n",
       " [<Bbox.bbox at 0x7f46c00dbf98>],\n",
       " [<Bbox.bbox at 0x7f46c00dbfd0>],\n",
       " [<Bbox.bbox at 0x7f46c00df048>],\n",
       " [<Bbox.bbox at 0x7f46c00df080>],\n",
       " [<Bbox.bbox at 0x7f46c00df0b8>],\n",
       " [<Bbox.bbox at 0x7f46c00df0f0>],\n",
       " [<Bbox.bbox at 0x7f46c00df128>],\n",
       " [<Bbox.bbox at 0x7f46c00df160>],\n",
       " [<Bbox.bbox at 0x7f46c00df198>],\n",
       " [<Bbox.bbox at 0x7f46c00df1d0>],\n",
       " [<Bbox.bbox at 0x7f46c00df208>],\n",
       " [<Bbox.bbox at 0x7f46c00df240>],\n",
       " [<Bbox.bbox at 0x7f46c00df278>],\n",
       " [<Bbox.bbox at 0x7f46c00df2b0>],\n",
       " [<Bbox.bbox at 0x7f46c00df2e8>],\n",
       " [<Bbox.bbox at 0x7f46c00df320>],\n",
       " [<Bbox.bbox at 0x7f46c00df358>],\n",
       " [<Bbox.bbox at 0x7f46c00df390>],\n",
       " [<Bbox.bbox at 0x7f46c00df3c8>],\n",
       " [<Bbox.bbox at 0x7f46c00df400>],\n",
       " [<Bbox.bbox at 0x7f46c00df438>],\n",
       " [<Bbox.bbox at 0x7f46c00df470>],\n",
       " [<Bbox.bbox at 0x7f46c00df4a8>],\n",
       " [<Bbox.bbox at 0x7f46c00df4e0>],\n",
       " [<Bbox.bbox at 0x7f46c00df518>],\n",
       " [<Bbox.bbox at 0x7f46c00df550>],\n",
       " [<Bbox.bbox at 0x7f46c00df588>],\n",
       " [<Bbox.bbox at 0x7f46c00df5c0>],\n",
       " [<Bbox.bbox at 0x7f46c00df5f8>],\n",
       " [<Bbox.bbox at 0x7f46c00df630>],\n",
       " [<Bbox.bbox at 0x7f46c00df668>],\n",
       " [<Bbox.bbox at 0x7f46c00df6a0>],\n",
       " [<Bbox.bbox at 0x7f46c00df6d8>],\n",
       " [<Bbox.bbox at 0x7f46c00df710>],\n",
       " [<Bbox.bbox at 0x7f46c00df748>],\n",
       " [<Bbox.bbox at 0x7f46c00df780>],\n",
       " [<Bbox.bbox at 0x7f46c00df7b8>],\n",
       " [<Bbox.bbox at 0x7f46c00df7f0>],\n",
       " [<Bbox.bbox at 0x7f46c00df828>],\n",
       " [<Bbox.bbox at 0x7f46c00df860>],\n",
       " [<Bbox.bbox at 0x7f46c00df898>],\n",
       " [<Bbox.bbox at 0x7f46c00df8d0>],\n",
       " [<Bbox.bbox at 0x7f46c00df908>],\n",
       " [<Bbox.bbox at 0x7f46c00df940>],\n",
       " [<Bbox.bbox at 0x7f46c00df978>],\n",
       " [<Bbox.bbox at 0x7f46c00df9b0>],\n",
       " [<Bbox.bbox at 0x7f46c00df9e8>],\n",
       " [<Bbox.bbox at 0x7f46c00dfa20>],\n",
       " [<Bbox.bbox at 0x7f46c00dfa58>],\n",
       " [<Bbox.bbox at 0x7f46c00dfa90>],\n",
       " [<Bbox.bbox at 0x7f46c00dfac8>],\n",
       " [<Bbox.bbox at 0x7f46c00dfb00>],\n",
       " [<Bbox.bbox at 0x7f46c00dfb38>],\n",
       " [<Bbox.bbox at 0x7f46c00dfb70>],\n",
       " [<Bbox.bbox at 0x7f46c00dfba8>],\n",
       " [<Bbox.bbox at 0x7f46c00dfbe0>],\n",
       " [<Bbox.bbox at 0x7f46c00dfc18>],\n",
       " [<Bbox.bbox at 0x7f46c00dfc50>],\n",
       " [<Bbox.bbox at 0x7f46c00dfc88>],\n",
       " [<Bbox.bbox at 0x7f46c00dfcc0>],\n",
       " [<Bbox.bbox at 0x7f46c00dfcf8>],\n",
       " [<Bbox.bbox at 0x7f46c00dfd30>],\n",
       " [<Bbox.bbox at 0x7f46c00dfd68>],\n",
       " [<Bbox.bbox at 0x7f46c00dfda0>],\n",
       " [<Bbox.bbox at 0x7f46c00dfdd8>],\n",
       " [<Bbox.bbox at 0x7f46c00dfe10>],\n",
       " [<Bbox.bbox at 0x7f46c00dfe48>],\n",
       " [<Bbox.bbox at 0x7f46c00dfe80>],\n",
       " [<Bbox.bbox at 0x7f46c00dfeb8>],\n",
       " [<Bbox.bbox at 0x7f46c00dfef0>],\n",
       " [<Bbox.bbox at 0x7f46c00dff28>],\n",
       " [<Bbox.bbox at 0x7f46c00dff60>],\n",
       " [<Bbox.bbox at 0x7f46c00dff98>],\n",
       " [<Bbox.bbox at 0x7f46c00dffd0>],\n",
       " [<Bbox.bbox at 0x7f46c00e2048>],\n",
       " [<Bbox.bbox at 0x7f46c00e2080>],\n",
       " [<Bbox.bbox at 0x7f46c00e20b8>],\n",
       " [<Bbox.bbox at 0x7f46c00e20f0>],\n",
       " [<Bbox.bbox at 0x7f46c00e2128>],\n",
       " [<Bbox.bbox at 0x7f46c00e2160>],\n",
       " [<Bbox.bbox at 0x7f46c00e2198>],\n",
       " [<Bbox.bbox at 0x7f46c00e21d0>],\n",
       " [<Bbox.bbox at 0x7f46c00e2208>],\n",
       " [<Bbox.bbox at 0x7f46c00e2240>],\n",
       " [<Bbox.bbox at 0x7f46c00e2278>],\n",
       " [<Bbox.bbox at 0x7f46c00e22b0>],\n",
       " [<Bbox.bbox at 0x7f46c00e22e8>],\n",
       " [<Bbox.bbox at 0x7f46c00e2320>],\n",
       " [<Bbox.bbox at 0x7f46c00e2358>],\n",
       " [<Bbox.bbox at 0x7f46c00e2390>],\n",
       " [<Bbox.bbox at 0x7f46c00e23c8>],\n",
       " [<Bbox.bbox at 0x7f46c00e2400>],\n",
       " [<Bbox.bbox at 0x7f46c00e2438>],\n",
       " [<Bbox.bbox at 0x7f46c00e2470>],\n",
       " [<Bbox.bbox at 0x7f46c00e24a8>],\n",
       " [<Bbox.bbox at 0x7f46c00e24e0>],\n",
       " [<Bbox.bbox at 0x7f46c00e2518>],\n",
       " [<Bbox.bbox at 0x7f46c00e2550>],\n",
       " [<Bbox.bbox at 0x7f46c00e2588>],\n",
       " [<Bbox.bbox at 0x7f46c00e25c0>],\n",
       " [<Bbox.bbox at 0x7f46c00e25f8>],\n",
       " [<Bbox.bbox at 0x7f46c00e2630>],\n",
       " [<Bbox.bbox at 0x7f46c00e2668>],\n",
       " [<Bbox.bbox at 0x7f46c00e26a0>],\n",
       " [<Bbox.bbox at 0x7f46c00e26d8>],\n",
       " [<Bbox.bbox at 0x7f46c00e2710>],\n",
       " [<Bbox.bbox at 0x7f46c00e2748>],\n",
       " [<Bbox.bbox at 0x7f46c00e2780>],\n",
       " [<Bbox.bbox at 0x7f46c00e27b8>],\n",
       " [<Bbox.bbox at 0x7f46c00e27f0>],\n",
       " [<Bbox.bbox at 0x7f46c00e2828>],\n",
       " [<Bbox.bbox at 0x7f46c00e2860>],\n",
       " [<Bbox.bbox at 0x7f46c00e2898>],\n",
       " [<Bbox.bbox at 0x7f46c00e28d0>],\n",
       " [<Bbox.bbox at 0x7f46c00e2908>]]"
      ]
     },
     "execution_count": 14,
     "metadata": {},
     "output_type": "execute_result"
    }
   ],
   "source": [
    "bboxes_list"
   ]
  },
  {
   "cell_type": "code",
   "execution_count": 24,
   "metadata": {
    "ExecuteTime": {
     "end_time": "2018-12-08T18:02:30.283474Z",
     "start_time": "2018-12-08T18:02:30.280876Z"
    }
   },
   "outputs": [
    {
     "name": "stdout",
     "output_type": "stream",
     "text": [
      "4\n"
     ]
    }
   ],
   "source": [
    "a=np.arange(5)\n",
    "if a[a>3]:\n",
    "    print(4)"
   ]
  },
  {
   "cell_type": "markdown",
   "metadata": {},
   "source": [
    "### interpotation "
   ]
  },
  {
   "cell_type": "code",
   "execution_count": 15,
   "metadata": {
    "ExecuteTime": {
     "end_time": "2018-12-09T11:28:32.926857Z",
     "start_time": "2018-12-09T11:28:32.914607Z"
    }
   },
   "outputs": [],
   "source": [
    "def interp(bbox1,bbox2):\n",
    "    interpnum=abs(bbox1.frame_index-bbox2.frame_index)\n",
    "    def linefun(x,y,num):\n",
    "        out=np.linspace(x,y,num=num,endpoint=False)\n",
    "        out=out[1:]\n",
    "        return out\n",
    "    scores=linefun(bbox1.score,bbox2.score,interpnum)\n",
    "    motions=linefun(bbox1.motion,bbox2.motion,interpnum)\n",
    "    frames=linefun(bbox1.frame_index,bbox2.frame_index,interpnum)\n",
    "    boxes=np.array((list(map(linefun,bbox1.box,bbox2.box,[interpnum]*4)))).transpose(1,0)\n",
    "    bboxes=[]\n",
    "    for i in range(interpnum-1):\n",
    "        bboxes.append(Bbox.bbox(motions[i],scores[i],bbox1.cls,boxes[i],int(frames[i])))\n",
    "    return bboxes        \n",
    "\n",
    "def interpotation(bboxes_list):\n",
    "    pointer=None\n",
    "    counter=0\n",
    "    allinterbox=[]\n",
    "    for i in range(len(bboxes_list)):\n",
    "        bboxes=bboxes_list[i]\n",
    "        isnone=True if len(bboxes)==1 else False\n",
    "        if isnone:\n",
    "            counter+=1\n",
    "            continue\n",
    "        else:\n",
    "            if counter==0:\n",
    "                pointer=i\n",
    "            else:\n",
    "                if counter<10:\n",
    "                    # could interp\n",
    "                    if pointer is not None:\n",
    "                        cad1=bboxes_list[pointer]\n",
    "                        cad2=bboxes_list[i]\n",
    "                        possible_score=[]\n",
    "                        possible_pair=[]\n",
    "                        for bbox1 in cad1:\n",
    "                            if bbox1.isnone:\n",
    "                                continue\n",
    "                            for bbox2 in cad2:\n",
    "                                if bbox2.isnone:\n",
    "                                    continue\n",
    "                                possible_score.append(bbox1.iouscore(bbox2))\n",
    "                                possible_pair.append((bbox1,bbox2))\n",
    "                        for i,score in enumerate(possible_score):\n",
    "                            if score >-1:\n",
    "                                bbox1=possible_pair[i][0]\n",
    "                                bbox2=possible_pair[i][1]\n",
    "                                bboxes=interp(bbox1,bbox2)\n",
    "                                allinterbox.append(bboxes)               \n",
    "            pointer=i\n",
    "            counter=0\n",
    "    return allinterbox\n",
    "            \n",
    "                \n",
    "            \n",
    "            \n",
    "    \n",
    "    "
   ]
  },
  {
   "cell_type": "code",
   "execution_count": 16,
   "metadata": {
    "ExecuteTime": {
     "end_time": "2018-12-09T11:28:40.724396Z",
     "start_time": "2018-12-09T11:28:40.721115Z"
    }
   },
   "outputs": [],
   "source": []
  },
  {
   "cell_type": "markdown",
   "metadata": {},
   "source": [
    "### add interpotation boxes to the bboxes_list"
   ]
  },
  {
   "cell_type": "code",
   "execution_count": 19,
   "metadata": {
    "ExecuteTime": {
     "end_time": "2018-12-09T11:28:48.228251Z",
     "start_time": "2018-12-09T11:28:48.223364Z"
    }
   },
   "outputs": [],
   "source": [
    "aggumentation=interpotation(bboxes_list)\n",
    "for eaches in aggumentation:\n",
    "    for each in eaches:\n",
    "        i=each.frame_index-1\n",
    "        bboxes_list[i].append(each)"
   ]
  },
  {
   "cell_type": "code",
   "execution_count": 17,
   "metadata": {
    "ExecuteTime": {
     "end_time": "2018-12-09T11:28:44.817010Z",
     "start_time": "2018-12-09T11:28:44.814561Z"
    }
   },
   "outputs": [],
   "source": [
    "def num(list):\n",
    "    count=0\n",
    "    for i in list:\n",
    "        count+=len(i)\n",
    "    return count"
   ]
  },
  {
   "cell_type": "code",
   "execution_count": 18,
   "metadata": {
    "ExecuteTime": {
     "end_time": "2018-12-09T11:28:45.338985Z",
     "start_time": "2018-12-09T11:28:45.333863Z"
    }
   },
   "outputs": [
    {
     "data": {
      "text/plain": [
       "386"
      ]
     },
     "execution_count": 18,
     "metadata": {},
     "output_type": "execute_result"
    }
   ],
   "source": [
    "num(bboxes_list)"
   ]
  },
  {
   "cell_type": "code",
   "execution_count": 20,
   "metadata": {
    "ExecuteTime": {
     "end_time": "2018-12-09T11:28:54.257999Z",
     "start_time": "2018-12-09T11:28:54.254219Z"
    }
   },
   "outputs": [
    {
     "data": {
      "text/plain": [
       "403"
      ]
     },
     "execution_count": 20,
     "metadata": {},
     "output_type": "execute_result"
    }
   ],
   "source": [
    "num(bboxes_list)"
   ]
  },
  {
   "cell_type": "code",
   "execution_count": null,
   "metadata": {},
   "outputs": [],
   "source": []
  },
  {
   "cell_type": "markdown",
   "metadata": {},
   "source": [
    "### split bboxes_list for forward and backwards"
   ]
  },
  {
   "cell_type": "code",
   "execution_count": 21,
   "metadata": {
    "ExecuteTime": {
     "end_time": "2018-12-09T11:28:59.273021Z",
     "start_time": "2018-12-09T11:28:59.268815Z"
    }
   },
   "outputs": [],
   "source": [
    "forward_bboxes_list=bboxes_list[frame_index:]\n",
    "backward_bboxes_list=bboxes_list[:frame_index+1]\n",
    "backward_bboxes_list=list(reversed(backward_bboxes_list))\n"
   ]
  },
  {
   "cell_type": "code",
   "execution_count": 22,
   "metadata": {
    "ExecuteTime": {
     "end_time": "2018-12-09T11:29:01.337468Z",
     "start_time": "2018-12-09T11:29:01.325893Z"
    }
   },
   "outputs": [],
   "source": [
    "def findway(process_list,bestbbox_score):\n",
    "    max_score=[]\n",
    "    max_score.append([bestbbox_score])\n",
    "    max_score_index=[]\n",
    "    max_score_index.append([0])\n",
    "    \n",
    "    for i,bboxes in enumerate(process_list[1:]):\n",
    "        i=i+1\n",
    "        score_list=[]\n",
    "        index_list=[]\n",
    "        if len(bboxes)==1:\n",
    "            #current is none\n",
    "            score_list.append(max(max_score[i-1]))\n",
    "            if len(process_list[i-1])==1: # prev is also none\n",
    "                index_list.append(0)\n",
    "                \n",
    "            else:\n",
    "                index_list.append(np.argmax(max_score[i-1]))          \n",
    "        else:\n",
    "            if len(process_list[i-1])!=1 or i==1: #previous not None\n",
    "                for bbox in bboxes:\n",
    "                    if bbox.isnone:\n",
    "                        emission=0\n",
    "                    else:\n",
    "                        emission=bbox.motion*bbox.score\n",
    "                    transmissions=[]\n",
    "                    # i==1 exception\n",
    "                    \n",
    "                    if i==1:\n",
    "                        if bbox.isnone:\n",
    "                            transmission=max_score[0][0]\n",
    "                        else:\n",
    "                            pre_bbox=process_list[0][0]\n",
    "                            prev_bbox_index=0\n",
    "                            transmission=bbox.iouscore(pre_bbox)+max_score[i-1][prev_bbox_index]\n",
    "                        transmissions.append(transmission)\n",
    "                    else:\n",
    "                        for prev_bbox_index,pre_bbox in enumerate (process_list[i-1]):\n",
    "                            if pre_bbox.isnone or bbox.isnone:\n",
    "                                transmission=max_score[i-1]\n",
    "                                transmission=transmission[prev_bbox_index]\n",
    "                            else:\n",
    "                                transmission=bbox.iouscore(pre_bbox)+max_score[i-1][prev_bbox_index]\n",
    "                        transmissions.append(transmission)\n",
    "                    score_list.append(np.max(transmissions)+emission) #could include a alpha or belta\n",
    "                    index_list.append(np.argmax(transmissions))\n",
    "            else:#previous is None\n",
    "                for bbox in bboxes:\n",
    "                    if bbox.isnone:\n",
    "                        emission=0\n",
    "                    else:\n",
    "                        emission=bbox.motion*bbox.score\n",
    "                    transmission=max_score[i-1][0]+0#iou is 0 for this case \n",
    "                    score_list.append(transmission+emission)\n",
    "                    index_list.append(0)\n",
    "        max_score.append(score_list)\n",
    "        max_score_index.append(index_list)\n",
    "    return max_score,max_score_index\n"
   ]
  },
  {
   "cell_type": "code",
   "execution_count": 23,
   "metadata": {
    "ExecuteTime": {
     "end_time": "2018-12-09T11:29:03.057162Z",
     "start_time": "2018-12-09T11:29:03.053085Z"
    }
   },
   "outputs": [
    {
     "data": {
      "text/plain": [
       "[[<Bbox.bbox at 0x7f46d87e7b38>, <Bbox.bbox at 0x7f46c35784a8>],\n",
       " [<Bbox.bbox at 0x7f46c35788d0>, <Bbox.bbox at 0x7f46c00667b8>],\n",
       " [<Bbox.bbox at 0x7f46d87e7f60>, <Bbox.bbox at 0x7f46c35785f8>],\n",
       " [<Bbox.bbox at 0x7f46d87e7978>, <Bbox.bbox at 0x7f46c35786d8>],\n",
       " [<Bbox.bbox at 0x7f46c35003c8>, <Bbox.bbox at 0x7f46c0066860>],\n",
       " [<Bbox.bbox at 0x7f46d87e7f28>, <Bbox.bbox at 0x7f46c3500438>],\n",
       " [<Bbox.bbox at 0x7f46d87e74a8>, <Bbox.bbox at 0x7f46c3500208>],\n",
       " [<Bbox.bbox at 0x7f46c35007f0>],\n",
       " [<Bbox.bbox at 0x7f46d87e7cc0>, <Bbox.bbox at 0x7f46c35006a0>],\n",
       " [<Bbox.bbox at 0x7f46c3500390>, <Bbox.bbox at 0x7f46c0066588>],\n",
       " [<Bbox.bbox at 0x7f46c3578dd8>, <Bbox.bbox at 0x7f46c3500748>],\n",
       " [<Bbox.bbox at 0x7f46c35781d0>, <Bbox.bbox at 0x7f46d86ea2e8>],\n",
       " [<Bbox.bbox at 0x7f46d86ea6a0>, <Bbox.bbox at 0x7f46c0066668>],\n",
       " [<Bbox.bbox at 0x7f46c35783c8>, <Bbox.bbox at 0x7f46d86ea630>],\n",
       " [<Bbox.bbox at 0x7f46c35782e8>, <Bbox.bbox at 0x7f46d86eaa58>],\n",
       " [<Bbox.bbox at 0x7f46d86eaf98>, <Bbox.bbox at 0x7f46c00665c0>],\n",
       " [<Bbox.bbox at 0x7f46c35784e0>, <Bbox.bbox at 0x7f46d86ea470>],\n",
       " [<Bbox.bbox at 0x7f46d86ea320>],\n",
       " [<Bbox.bbox at 0x7f46c3578390>, <Bbox.bbox at 0x7f46d86ea240>],\n",
       " [<Bbox.bbox at 0x7f46d86ea908>, <Bbox.bbox at 0x7f46c0066550>],\n",
       " [<Bbox.bbox at 0x7f46c3578ba8>, <Bbox.bbox at 0x7f46d86ea4e0>],\n",
       " [<Bbox.bbox at 0x7f46c3578940>, <Bbox.bbox at 0x7f46c011edd8>],\n",
       " [<Bbox.bbox at 0x7f46c011ef60>],\n",
       " [<Bbox.bbox at 0x7f46c011ed68>]]"
      ]
     },
     "execution_count": 23,
     "metadata": {},
     "output_type": "execute_result"
    }
   ],
   "source": [
    "backward_bboxes_list"
   ]
  },
  {
   "cell_type": "code",
   "execution_count": 24,
   "metadata": {
    "ExecuteTime": {
     "end_time": "2018-12-09T11:29:09.555475Z",
     "start_time": "2018-12-09T11:29:09.550212Z"
    }
   },
   "outputs": [
    {
     "name": "stdout",
     "output_type": "stream",
     "text": [
      "336 24\n"
     ]
    }
   ],
   "source": [
    "max_score,max_score_index=findway(forward_bboxes_list,score)\n",
    "max_score1,max_score_index1=findway(backward_bboxes_list,score)\n",
    "print(len(max_score_index),len(max_score_index1))\n"
   ]
  },
  {
   "cell_type": "code",
   "execution_count": 25,
   "metadata": {
    "ExecuteTime": {
     "end_time": "2018-12-09T11:29:11.475963Z",
     "start_time": "2018-12-09T11:29:11.471530Z"
    }
   },
   "outputs": [],
   "source": [
    "def bestway(max_score,max_score_index):\n",
    "    endpoint_index=np.argmax(max_score[-1])\n",
    "    endpoint=max_score_index[-1][endpoint_index]\n",
    "    best_path=[]\n",
    "    best_path.append(endpoint)\n",
    "\n",
    "    processed_max_index=list(reversed(max_score_index))[1:]\n",
    "    for frame_index in range(len(processed_max_index)):\n",
    "\n",
    "        endpoint=processed_max_index[frame_index][endpoint]\n",
    "        best_path.append(endpoint)\n",
    "    return list(reversed(best_path))"
   ]
  },
  {
   "cell_type": "code",
   "execution_count": 26,
   "metadata": {
    "ExecuteTime": {
     "end_time": "2018-12-09T11:29:19.966750Z",
     "start_time": "2018-12-09T11:29:19.963857Z"
    }
   },
   "outputs": [
    {
     "name": "stdout",
     "output_type": "stream",
     "text": [
      "336 24\n"
     ]
    }
   ],
   "source": [
    "forwardpath=bestway(max_score,max_score_index)\n",
    "backwardpath=bestway(max_score1,max_score_index1)\n",
    "print(len(forwardpath),len(backwardpath))"
   ]
  },
  {
   "cell_type": "markdown",
   "metadata": {},
   "source": [
    "### merger the forward and backward path  and find the trackets  "
   ]
  },
  {
   "cell_type": "code",
   "execution_count": 27,
   "metadata": {
    "ExecuteTime": {
     "end_time": "2018-12-09T11:29:26.389221Z",
     "start_time": "2018-12-09T11:29:26.386102Z"
    }
   },
   "outputs": [
    {
     "name": "stdout",
     "output_type": "stream",
     "text": [
      "335 23\n"
     ]
    }
   ],
   "source": [
    "backwardpath=list(reversed(backwardpath))\n",
    "backwardpath.pop()\n",
    "forwardpath.pop(0)\n",
    "print(len(forwardpath),len(backwardpath))\n",
    "allpath=backwardpath+[boxes_index]+forwardpath"
   ]
  },
  {
   "cell_type": "code",
   "execution_count": 28,
   "metadata": {
    "ExecuteTime": {
     "end_time": "2018-12-09T11:29:44.046411Z",
     "start_time": "2018-12-09T11:29:44.041334Z"
    }
   },
   "outputs": [
    {
     "data": {
      "text/plain": [
       "359"
      ]
     },
     "execution_count": 28,
     "metadata": {},
     "output_type": "execute_result"
    }
   ],
   "source": [
    "len(bboxes_list)"
   ]
  },
  {
   "cell_type": "markdown",
   "metadata": {},
   "source": [
    "### check not none number"
   ]
  },
  {
   "cell_type": "code",
   "execution_count": 29,
   "metadata": {
    "ExecuteTime": {
     "end_time": "2018-12-09T11:29:47.425148Z",
     "start_time": "2018-12-09T11:29:47.421155Z"
    }
   },
   "outputs": [],
   "source": [
    "def check_not_none(bboxes_list):\n",
    "    allcount=0\n",
    "    for bboxes in bboxes_list:\n",
    "        assert len(bboxes)>=1\n",
    "        allcount+=len(bboxes)-1\n",
    "    return allcount"
   ]
  },
  {
   "cell_type": "code",
   "execution_count": 44,
   "metadata": {
    "ExecuteTime": {
     "end_time": "2018-12-09T11:53:35.239964Z",
     "start_time": "2018-12-09T11:53:35.228741Z"
    }
   },
   "outputs": [
    {
     "data": {
      "text/plain": [
       "27"
      ]
     },
     "execution_count": 44,
     "metadata": {},
     "output_type": "execute_result"
    }
   ],
   "source": [
    "check_not_none(bboxes_list)"
   ]
  },
  {
   "cell_type": "markdown",
   "metadata": {},
   "source": [
    "### update bbox_list by finded path"
   ]
  },
  {
   "cell_type": "code",
   "execution_count": 31,
   "metadata": {
    "ExecuteTime": {
     "end_time": "2018-12-09T11:30:01.731506Z",
     "start_time": "2018-12-09T11:30:01.718561Z"
    }
   },
   "outputs": [],
   "source": [
    "for i in range(len(allpath)):\n",
    "    bboxes_list[i].pop(allpath[i])\n"
   ]
  },
  {
   "cell_type": "code",
   "execution_count": 32,
   "metadata": {
    "ExecuteTime": {
     "end_time": "2018-12-09T11:30:34.933055Z",
     "start_time": "2018-12-09T11:30:34.929045Z"
    }
   },
   "outputs": [],
   "source": [
    "#add none\n",
    "bboxes_list=addnone(bboxes_list)"
   ]
  },
  {
   "cell_type": "code",
   "execution_count": 33,
   "metadata": {
    "ExecuteTime": {
     "end_time": "2018-12-09T11:30:43.993891Z",
     "start_time": "2018-12-09T11:30:43.981516Z"
    }
   },
   "outputs": [
    {
     "data": {
      "text/plain": [
       "18"
      ]
     },
     "execution_count": 33,
     "metadata": {},
     "output_type": "execute_result"
    }
   ],
   "source": [
    "check_not_none(bboxes_list)"
   ]
  },
  {
   "cell_type": "code",
   "execution_count": 43,
   "metadata": {
    "ExecuteTime": {
     "end_time": "2018-12-09T11:34:06.242011Z",
     "start_time": "2018-12-09T11:34:06.239188Z"
    }
   },
   "outputs": [
    {
     "data": {
      "text/plain": [
       "386"
      ]
     },
     "execution_count": 43,
     "metadata": {},
     "output_type": "execute_result"
    }
   ],
   "source": [
    "num(bboxes_list)"
   ]
  },
  {
   "cell_type": "code",
   "execution_count": 45,
   "metadata": {
    "ExecuteTime": {
     "end_time": "2018-12-09T11:53:46.458165Z",
     "start_time": "2018-12-09T11:53:46.453444Z"
    }
   },
   "outputs": [],
   "source": [
    "aggumentation=interpotation(bboxes_list)\n",
    "for eaches in aggumentation:\n",
    "    for each in eaches:\n",
    "        i=each.frame_index-1\n",
    "        bboxes_list[i].append(each)"
   ]
  },
  {
   "cell_type": "code",
   "execution_count": null,
   "metadata": {},
   "outputs": [],
   "source": []
  }
 ],
 "metadata": {
  "kernelspec": {
   "display_name": "Python 3",
   "language": "python",
   "name": "python3"
  },
  "language_info": {
   "codemirror_mode": {
    "name": "ipython",
    "version": 3
   },
   "file_extension": ".py",
   "mimetype": "text/x-python",
   "name": "python",
   "nbconvert_exporter": "python",
   "pygments_lexer": "ipython3",
   "version": "3.6.2"
  },
  "varInspector": {
   "cols": {
    "lenName": 16,
    "lenType": 16,
    "lenVar": 40
   },
   "kernels_config": {
    "python": {
     "delete_cmd_postfix": "",
     "delete_cmd_prefix": "del ",
     "library": "var_list.py",
     "varRefreshCmd": "print(var_dic_list())"
    },
    "r": {
     "delete_cmd_postfix": ") ",
     "delete_cmd_prefix": "rm(",
     "library": "var_list.r",
     "varRefreshCmd": "cat(var_dic_list()) "
    }
   },
   "position": {
    "height": "534.85px",
    "left": "1016px",
    "right": "102.833px",
    "top": "145px",
    "width": "641.167px"
   },
   "types_to_exclude": [
    "module",
    "function",
    "builtin_function_or_method",
    "instance",
    "_Feature"
   ],
   "window_display": false
  }
 },
 "nbformat": 4,
 "nbformat_minor": 2
}
